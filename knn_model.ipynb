{
 "cells": [
  {
   "cell_type": "code",
   "execution_count": 21,
   "id": "9eea2dbe",
   "metadata": {},
   "outputs": [],
   "source": [
    "# imports for building a knn model\n",
    "import pandas as pd\n",
    "import numpy as np\n",
    "import matplotlib.pyplot as plt\n",
    "import seaborn as sns\n",
    "from sklearn.model_selection import train_test_split\n",
    "from sklearn.preprocessing import StandardScaler\n",
    "from sklearn.neighbors import KNeighborsRegressor\n",
    "from sklearn.metrics import mean_squared_error, r2_score\n",
    "from data_split import split_data\n"
   ]
  },
  {
   "cell_type": "code",
   "execution_count": 25,
   "id": "0d270471",
   "metadata": {},
   "outputs": [],
   "source": [
    "#split feature engineered data into train val test\n",
    "data = pd.read_csv('datasets/ny_hp_feature_engineered.csv')\n",
    "#split_data(dataset, y, test_size, val_size, random_state)\n",
    "X_train, X_val, X_test, y_train, y_val, y_test = split_data(data, 'price', 0.2, 0.2, 42)\n",
    "\n",
    "# rejoining X and y for scaling\n",
    "train = pd.concat([X_train, y_train], axis=1)\n",
    "val = pd.concat([X_val, y_val], axis=1)\n",
    "test = pd.concat([X_test, y_test], axis=1)\n",
    "\n",
    "\n",
    "\n",
    "#standardize data\n",
    "scaler = StandardScaler()\n",
    "X_train_scaled = scaler.fit_transform(X_train)\n",
    "X_val_scaled = scaler.transform(X_val)\n",
    "X_test_scaled = scaler.transform(X_test)\n",
    "\n"
   ]
  }
 ],
 "metadata": {
  "kernelspec": {
   "display_name": "1902_stage3 (.venv)",
   "language": "python",
   "name": "1902_stage3"
  },
  "language_info": {
   "codemirror_mode": {
    "name": "ipython",
    "version": 3
   },
   "file_extension": ".py",
   "mimetype": "text/x-python",
   "name": "python",
   "nbconvert_exporter": "python",
   "pygments_lexer": "ipython3",
   "version": "3.9.6"
  }
 },
 "nbformat": 4,
 "nbformat_minor": 5
}
